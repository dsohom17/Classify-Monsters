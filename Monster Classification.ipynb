{
 "cells": [
  {
   "cell_type": "code",
   "execution_count": 1,
   "metadata": {},
   "outputs": [],
   "source": [
    "import numpy as np\n",
    "import pandas as pd"
   ]
  },
  {
   "cell_type": "code",
   "execution_count": 4,
   "metadata": {},
   "outputs": [
    {
     "data": {
      "text/html": [
       "<div>\n",
       "<style scoped>\n",
       "    .dataframe tbody tr th:only-of-type {\n",
       "        vertical-align: middle;\n",
       "    }\n",
       "\n",
       "    .dataframe tbody tr th {\n",
       "        vertical-align: top;\n",
       "    }\n",
       "\n",
       "    .dataframe thead th {\n",
       "        text-align: right;\n",
       "    }\n",
       "</style>\n",
       "<table border=\"1\" class=\"dataframe\">\n",
       "  <thead>\n",
       "    <tr style=\"text-align: right;\">\n",
       "      <th></th>\n",
       "      <th>id</th>\n",
       "      <th>bone_length</th>\n",
       "      <th>rotting_flesh</th>\n",
       "      <th>hair_length</th>\n",
       "      <th>has_soul</th>\n",
       "      <th>color</th>\n",
       "      <th>type</th>\n",
       "    </tr>\n",
       "  </thead>\n",
       "  <tbody>\n",
       "    <tr>\n",
       "      <th>0</th>\n",
       "      <td>0</td>\n",
       "      <td>0.354512</td>\n",
       "      <td>0.350839</td>\n",
       "      <td>0.465761</td>\n",
       "      <td>0.781142</td>\n",
       "      <td>clear</td>\n",
       "      <td>Ghoul</td>\n",
       "    </tr>\n",
       "    <tr>\n",
       "      <th>1</th>\n",
       "      <td>1</td>\n",
       "      <td>0.575560</td>\n",
       "      <td>0.425868</td>\n",
       "      <td>0.531401</td>\n",
       "      <td>0.439899</td>\n",
       "      <td>green</td>\n",
       "      <td>Goblin</td>\n",
       "    </tr>\n",
       "    <tr>\n",
       "      <th>2</th>\n",
       "      <td>2</td>\n",
       "      <td>0.467875</td>\n",
       "      <td>0.354330</td>\n",
       "      <td>0.811616</td>\n",
       "      <td>0.791225</td>\n",
       "      <td>black</td>\n",
       "      <td>Ghoul</td>\n",
       "    </tr>\n",
       "    <tr>\n",
       "      <th>3</th>\n",
       "      <td>4</td>\n",
       "      <td>0.776652</td>\n",
       "      <td>0.508723</td>\n",
       "      <td>0.636766</td>\n",
       "      <td>0.884464</td>\n",
       "      <td>black</td>\n",
       "      <td>Ghoul</td>\n",
       "    </tr>\n",
       "    <tr>\n",
       "      <th>4</th>\n",
       "      <td>5</td>\n",
       "      <td>0.566117</td>\n",
       "      <td>0.875862</td>\n",
       "      <td>0.418594</td>\n",
       "      <td>0.636438</td>\n",
       "      <td>green</td>\n",
       "      <td>Ghost</td>\n",
       "    </tr>\n",
       "  </tbody>\n",
       "</table>\n",
       "</div>"
      ],
      "text/plain": [
       "   id  bone_length  rotting_flesh  hair_length  has_soul  color    type\n",
       "0   0     0.354512       0.350839     0.465761  0.781142  clear   Ghoul\n",
       "1   1     0.575560       0.425868     0.531401  0.439899  green  Goblin\n",
       "2   2     0.467875       0.354330     0.811616  0.791225  black   Ghoul\n",
       "3   4     0.776652       0.508723     0.636766  0.884464  black   Ghoul\n",
       "4   5     0.566117       0.875862     0.418594  0.636438  green   Ghost"
      ]
     },
     "execution_count": 4,
     "metadata": {},
     "output_type": "execute_result"
    }
   ],
   "source": [
    "data = pd.read_csv('data/train.csv')\n",
    "data.head()"
   ]
  },
  {
   "cell_type": "code",
   "execution_count": 5,
   "metadata": {},
   "outputs": [
    {
     "data": {
      "text/plain": [
       "id               0\n",
       "bone_length      0\n",
       "rotting_flesh    0\n",
       "hair_length      0\n",
       "has_soul         0\n",
       "color            0\n",
       "type             0\n",
       "dtype: int64"
      ]
     },
     "execution_count": 5,
     "metadata": {},
     "output_type": "execute_result"
    }
   ],
   "source": [
    "data.isnull().sum()"
   ]
  },
  {
   "cell_type": "code",
   "execution_count": 8,
   "metadata": {},
   "outputs": [
    {
     "data": {
      "text/plain": [
       "id                 int64\n",
       "bone_length      float64\n",
       "rotting_flesh    float64\n",
       "hair_length      float64\n",
       "has_soul         float64\n",
       "color             object\n",
       "type              object\n",
       "dtype: object"
      ]
     },
     "execution_count": 8,
     "metadata": {},
     "output_type": "execute_result"
    }
   ],
   "source": [
    "data.dtypes"
   ]
  },
  {
   "cell_type": "code",
   "execution_count": 10,
   "metadata": {},
   "outputs": [],
   "source": [
    "data = pd.get_dummies(data, columns=['color'], drop_first=True)"
   ]
  },
  {
   "cell_type": "code",
   "execution_count": 12,
   "metadata": {},
   "outputs": [],
   "source": [
    "data.drop('id', axis=1, inplace=True)"
   ]
  },
  {
   "cell_type": "code",
   "execution_count": 13,
   "metadata": {},
   "outputs": [
    {
     "data": {
      "text/html": [
       "<div>\n",
       "<style scoped>\n",
       "    .dataframe tbody tr th:only-of-type {\n",
       "        vertical-align: middle;\n",
       "    }\n",
       "\n",
       "    .dataframe tbody tr th {\n",
       "        vertical-align: top;\n",
       "    }\n",
       "\n",
       "    .dataframe thead th {\n",
       "        text-align: right;\n",
       "    }\n",
       "</style>\n",
       "<table border=\"1\" class=\"dataframe\">\n",
       "  <thead>\n",
       "    <tr style=\"text-align: right;\">\n",
       "      <th></th>\n",
       "      <th>bone_length</th>\n",
       "      <th>rotting_flesh</th>\n",
       "      <th>hair_length</th>\n",
       "      <th>has_soul</th>\n",
       "      <th>type</th>\n",
       "      <th>color_blood</th>\n",
       "      <th>color_blue</th>\n",
       "      <th>color_clear</th>\n",
       "      <th>color_green</th>\n",
       "      <th>color_white</th>\n",
       "    </tr>\n",
       "  </thead>\n",
       "  <tbody>\n",
       "    <tr>\n",
       "      <th>0</th>\n",
       "      <td>0.354512</td>\n",
       "      <td>0.350839</td>\n",
       "      <td>0.465761</td>\n",
       "      <td>0.781142</td>\n",
       "      <td>Ghoul</td>\n",
       "      <td>0</td>\n",
       "      <td>0</td>\n",
       "      <td>1</td>\n",
       "      <td>0</td>\n",
       "      <td>0</td>\n",
       "    </tr>\n",
       "    <tr>\n",
       "      <th>1</th>\n",
       "      <td>0.575560</td>\n",
       "      <td>0.425868</td>\n",
       "      <td>0.531401</td>\n",
       "      <td>0.439899</td>\n",
       "      <td>Goblin</td>\n",
       "      <td>0</td>\n",
       "      <td>0</td>\n",
       "      <td>0</td>\n",
       "      <td>1</td>\n",
       "      <td>0</td>\n",
       "    </tr>\n",
       "    <tr>\n",
       "      <th>2</th>\n",
       "      <td>0.467875</td>\n",
       "      <td>0.354330</td>\n",
       "      <td>0.811616</td>\n",
       "      <td>0.791225</td>\n",
       "      <td>Ghoul</td>\n",
       "      <td>0</td>\n",
       "      <td>0</td>\n",
       "      <td>0</td>\n",
       "      <td>0</td>\n",
       "      <td>0</td>\n",
       "    </tr>\n",
       "    <tr>\n",
       "      <th>3</th>\n",
       "      <td>0.776652</td>\n",
       "      <td>0.508723</td>\n",
       "      <td>0.636766</td>\n",
       "      <td>0.884464</td>\n",
       "      <td>Ghoul</td>\n",
       "      <td>0</td>\n",
       "      <td>0</td>\n",
       "      <td>0</td>\n",
       "      <td>0</td>\n",
       "      <td>0</td>\n",
       "    </tr>\n",
       "    <tr>\n",
       "      <th>4</th>\n",
       "      <td>0.566117</td>\n",
       "      <td>0.875862</td>\n",
       "      <td>0.418594</td>\n",
       "      <td>0.636438</td>\n",
       "      <td>Ghost</td>\n",
       "      <td>0</td>\n",
       "      <td>0</td>\n",
       "      <td>0</td>\n",
       "      <td>1</td>\n",
       "      <td>0</td>\n",
       "    </tr>\n",
       "  </tbody>\n",
       "</table>\n",
       "</div>"
      ],
      "text/plain": [
       "   bone_length  rotting_flesh  hair_length  has_soul    type  color_blood  \\\n",
       "0     0.354512       0.350839     0.465761  0.781142   Ghoul            0   \n",
       "1     0.575560       0.425868     0.531401  0.439899  Goblin            0   \n",
       "2     0.467875       0.354330     0.811616  0.791225   Ghoul            0   \n",
       "3     0.776652       0.508723     0.636766  0.884464   Ghoul            0   \n",
       "4     0.566117       0.875862     0.418594  0.636438   Ghost            0   \n",
       "\n",
       "   color_blue  color_clear  color_green  color_white  \n",
       "0           0            1            0            0  \n",
       "1           0            0            1            0  \n",
       "2           0            0            0            0  \n",
       "3           0            0            0            0  \n",
       "4           0            0            1            0  "
      ]
     },
     "execution_count": 13,
     "metadata": {},
     "output_type": "execute_result"
    }
   ],
   "source": [
    "data.head()"
   ]
  },
  {
   "cell_type": "code",
   "execution_count": 14,
   "metadata": {},
   "outputs": [],
   "source": [
    "X = data.drop('type', axis=1)\n",
    "y = data['type']"
   ]
  },
  {
   "cell_type": "code",
   "execution_count": 17,
   "metadata": {},
   "outputs": [],
   "source": [
    "from sklearn.model_selection import train_test_split\n",
    "\n",
    "X_train, X_test, y_train, y_test = train_test_split(X, y, test_size=0.33, random_state=42)"
   ]
  },
  {
   "cell_type": "code",
   "execution_count": 97,
   "metadata": {},
   "outputs": [
    {
     "name": "stdout",
     "output_type": "stream",
     "text": [
      "0.8451178451178452\n",
      "0.7432432432432432\n"
     ]
    }
   ],
   "source": [
    "from sklearn.ensemble import RandomForestClassifier\n",
    "\n",
    "model = RandomForestClassifier(n_estimators=1000, min_samples_leaf=10)\n",
    "\n",
    "model.fit(X_train, y_train)\n",
    "\n",
    "print(model.score(X_train, y_train))\n",
    "print(model.score(X_test, y_test))"
   ]
  },
  {
   "cell_type": "code",
   "execution_count": 44,
   "metadata": {},
   "outputs": [],
   "source": [
    "from sklearn.model_selection import KFold \n",
    "\n",
    "kf = KFold(n_splits=5) "
   ]
  },
  {
   "cell_type": "code",
   "execution_count": 118,
   "metadata": {},
   "outputs": [
    {
     "name": "stdout",
     "output_type": "stream",
     "text": [
      "(296,) --- (75,)\n",
      "(297,) --- (74,)\n",
      "(297,) --- (74,)\n",
      "(297,) --- (74,)\n",
      "(297,) --- (74,)\n"
     ]
    }
   ],
   "source": [
    "for i,j in kf.split(X):\n",
    "    print(f\"{i.shape} --- {j.shape}\")"
   ]
  },
  {
   "cell_type": "code",
   "execution_count": 98,
   "metadata": {},
   "outputs": [
    {
     "name": "stdout",
     "output_type": "stream",
     "text": [
      "0.8247952497952497\n",
      "0.8247567567567566\n"
     ]
    }
   ],
   "source": [
    "train_accuracy = []\n",
    "test_accuracy = []\n",
    "\n",
    "for train_index, test_index in kf.split(X):\n",
    "    \n",
    "    X_train = X.loc[train_index]\n",
    "    X_test = X.loc[test_index]\n",
    "    y_train = y.loc[train_index]\n",
    "    y_test = y.loc[test_index]\n",
    "    \n",
    "    train_accuracy.append(model.score(X_train, y_train))\n",
    "    test_accuracy.append(model.score(X_test, y_test))\n",
    "    \n",
    "print(np.mean(np.array(train_accuracy)))\n",
    "print(np.mean(np.array(test_accuracy)))"
   ]
  },
  {
   "cell_type": "code",
   "execution_count": 108,
   "metadata": {},
   "outputs": [],
   "source": [
    "data_pred = pd.read_csv('data/test.csv')"
   ]
  },
  {
   "cell_type": "code",
   "execution_count": 109,
   "metadata": {},
   "outputs": [
    {
     "data": {
      "text/html": [
       "<div>\n",
       "<style scoped>\n",
       "    .dataframe tbody tr th:only-of-type {\n",
       "        vertical-align: middle;\n",
       "    }\n",
       "\n",
       "    .dataframe tbody tr th {\n",
       "        vertical-align: top;\n",
       "    }\n",
       "\n",
       "    .dataframe thead th {\n",
       "        text-align: right;\n",
       "    }\n",
       "</style>\n",
       "<table border=\"1\" class=\"dataframe\">\n",
       "  <thead>\n",
       "    <tr style=\"text-align: right;\">\n",
       "      <th></th>\n",
       "      <th>id</th>\n",
       "      <th>bone_length</th>\n",
       "      <th>rotting_flesh</th>\n",
       "      <th>hair_length</th>\n",
       "      <th>has_soul</th>\n",
       "      <th>color</th>\n",
       "    </tr>\n",
       "  </thead>\n",
       "  <tbody>\n",
       "    <tr>\n",
       "      <th>0</th>\n",
       "      <td>3</td>\n",
       "      <td>0.471774</td>\n",
       "      <td>0.387937</td>\n",
       "      <td>0.706087</td>\n",
       "      <td>0.698537</td>\n",
       "      <td>black</td>\n",
       "    </tr>\n",
       "    <tr>\n",
       "      <th>1</th>\n",
       "      <td>6</td>\n",
       "      <td>0.427332</td>\n",
       "      <td>0.645024</td>\n",
       "      <td>0.565558</td>\n",
       "      <td>0.451462</td>\n",
       "      <td>white</td>\n",
       "    </tr>\n",
       "    <tr>\n",
       "      <th>2</th>\n",
       "      <td>9</td>\n",
       "      <td>0.549602</td>\n",
       "      <td>0.491931</td>\n",
       "      <td>0.660387</td>\n",
       "      <td>0.449809</td>\n",
       "      <td>black</td>\n",
       "    </tr>\n",
       "    <tr>\n",
       "      <th>3</th>\n",
       "      <td>10</td>\n",
       "      <td>0.638095</td>\n",
       "      <td>0.682867</td>\n",
       "      <td>0.471409</td>\n",
       "      <td>0.356924</td>\n",
       "      <td>white</td>\n",
       "    </tr>\n",
       "    <tr>\n",
       "      <th>4</th>\n",
       "      <td>13</td>\n",
       "      <td>0.361762</td>\n",
       "      <td>0.583997</td>\n",
       "      <td>0.377256</td>\n",
       "      <td>0.276364</td>\n",
       "      <td>black</td>\n",
       "    </tr>\n",
       "  </tbody>\n",
       "</table>\n",
       "</div>"
      ],
      "text/plain": [
       "   id  bone_length  rotting_flesh  hair_length  has_soul  color\n",
       "0   3     0.471774       0.387937     0.706087  0.698537  black\n",
       "1   6     0.427332       0.645024     0.565558  0.451462  white\n",
       "2   9     0.549602       0.491931     0.660387  0.449809  black\n",
       "3  10     0.638095       0.682867     0.471409  0.356924  white\n",
       "4  13     0.361762       0.583997     0.377256  0.276364  black"
      ]
     },
     "execution_count": 109,
     "metadata": {},
     "output_type": "execute_result"
    }
   ],
   "source": [
    "data_pred.head()"
   ]
  },
  {
   "cell_type": "code",
   "execution_count": 110,
   "metadata": {},
   "outputs": [],
   "source": [
    "data_pred = pd.get_dummies(data_pred, columns=['color'], drop_first=True)"
   ]
  },
  {
   "cell_type": "code",
   "execution_count": 111,
   "metadata": {},
   "outputs": [],
   "source": [
    "X_pred = data_pred.drop('id', axis=1)"
   ]
  },
  {
   "cell_type": "code",
   "execution_count": 112,
   "metadata": {},
   "outputs": [
    {
     "data": {
      "text/html": [
       "<div>\n",
       "<style scoped>\n",
       "    .dataframe tbody tr th:only-of-type {\n",
       "        vertical-align: middle;\n",
       "    }\n",
       "\n",
       "    .dataframe tbody tr th {\n",
       "        vertical-align: top;\n",
       "    }\n",
       "\n",
       "    .dataframe thead th {\n",
       "        text-align: right;\n",
       "    }\n",
       "</style>\n",
       "<table border=\"1\" class=\"dataframe\">\n",
       "  <thead>\n",
       "    <tr style=\"text-align: right;\">\n",
       "      <th></th>\n",
       "      <th>bone_length</th>\n",
       "      <th>rotting_flesh</th>\n",
       "      <th>hair_length</th>\n",
       "      <th>has_soul</th>\n",
       "      <th>color_blood</th>\n",
       "      <th>color_blue</th>\n",
       "      <th>color_clear</th>\n",
       "      <th>color_green</th>\n",
       "      <th>color_white</th>\n",
       "    </tr>\n",
       "  </thead>\n",
       "  <tbody>\n",
       "    <tr>\n",
       "      <th>0</th>\n",
       "      <td>0.471774</td>\n",
       "      <td>0.387937</td>\n",
       "      <td>0.706087</td>\n",
       "      <td>0.698537</td>\n",
       "      <td>0</td>\n",
       "      <td>0</td>\n",
       "      <td>0</td>\n",
       "      <td>0</td>\n",
       "      <td>0</td>\n",
       "    </tr>\n",
       "    <tr>\n",
       "      <th>1</th>\n",
       "      <td>0.427332</td>\n",
       "      <td>0.645024</td>\n",
       "      <td>0.565558</td>\n",
       "      <td>0.451462</td>\n",
       "      <td>0</td>\n",
       "      <td>0</td>\n",
       "      <td>0</td>\n",
       "      <td>0</td>\n",
       "      <td>1</td>\n",
       "    </tr>\n",
       "    <tr>\n",
       "      <th>2</th>\n",
       "      <td>0.549602</td>\n",
       "      <td>0.491931</td>\n",
       "      <td>0.660387</td>\n",
       "      <td>0.449809</td>\n",
       "      <td>0</td>\n",
       "      <td>0</td>\n",
       "      <td>0</td>\n",
       "      <td>0</td>\n",
       "      <td>0</td>\n",
       "    </tr>\n",
       "    <tr>\n",
       "      <th>3</th>\n",
       "      <td>0.638095</td>\n",
       "      <td>0.682867</td>\n",
       "      <td>0.471409</td>\n",
       "      <td>0.356924</td>\n",
       "      <td>0</td>\n",
       "      <td>0</td>\n",
       "      <td>0</td>\n",
       "      <td>0</td>\n",
       "      <td>1</td>\n",
       "    </tr>\n",
       "    <tr>\n",
       "      <th>4</th>\n",
       "      <td>0.361762</td>\n",
       "      <td>0.583997</td>\n",
       "      <td>0.377256</td>\n",
       "      <td>0.276364</td>\n",
       "      <td>0</td>\n",
       "      <td>0</td>\n",
       "      <td>0</td>\n",
       "      <td>0</td>\n",
       "      <td>0</td>\n",
       "    </tr>\n",
       "  </tbody>\n",
       "</table>\n",
       "</div>"
      ],
      "text/plain": [
       "   bone_length  rotting_flesh  hair_length  has_soul  color_blood  color_blue  \\\n",
       "0     0.471774       0.387937     0.706087  0.698537            0           0   \n",
       "1     0.427332       0.645024     0.565558  0.451462            0           0   \n",
       "2     0.549602       0.491931     0.660387  0.449809            0           0   \n",
       "3     0.638095       0.682867     0.471409  0.356924            0           0   \n",
       "4     0.361762       0.583997     0.377256  0.276364            0           0   \n",
       "\n",
       "   color_clear  color_green  color_white  \n",
       "0            0            0            0  \n",
       "1            0            0            1  \n",
       "2            0            0            0  \n",
       "3            0            0            1  \n",
       "4            0            0            0  "
      ]
     },
     "execution_count": 112,
     "metadata": {},
     "output_type": "execute_result"
    }
   ],
   "source": [
    "X_pred.head()"
   ]
  },
  {
   "cell_type": "code",
   "execution_count": 120,
   "metadata": {},
   "outputs": [],
   "source": [
    "predictions = model.predict(X_pred)\n",
    "\n",
    "submission = pd.DataFrame({'Id': data_pred['id'].values, 'type': predictions})"
   ]
  },
  {
   "cell_type": "code",
   "execution_count": 114,
   "metadata": {},
   "outputs": [],
   "source": [
    "submission.to_csv('submission.csv', index=False)"
   ]
  },
  {
   "cell_type": "code",
   "execution_count": 121,
   "metadata": {},
   "outputs": [
    {
     "data": {
      "text/html": [
       "<div>\n",
       "<style scoped>\n",
       "    .dataframe tbody tr th:only-of-type {\n",
       "        vertical-align: middle;\n",
       "    }\n",
       "\n",
       "    .dataframe tbody tr th {\n",
       "        vertical-align: top;\n",
       "    }\n",
       "\n",
       "    .dataframe thead th {\n",
       "        text-align: right;\n",
       "    }\n",
       "</style>\n",
       "<table border=\"1\" class=\"dataframe\">\n",
       "  <thead>\n",
       "    <tr style=\"text-align: right;\">\n",
       "      <th></th>\n",
       "      <th>Id</th>\n",
       "      <th>type</th>\n",
       "    </tr>\n",
       "  </thead>\n",
       "  <tbody>\n",
       "    <tr>\n",
       "      <th>0</th>\n",
       "      <td>3</td>\n",
       "      <td>Ghoul</td>\n",
       "    </tr>\n",
       "    <tr>\n",
       "      <th>1</th>\n",
       "      <td>6</td>\n",
       "      <td>Goblin</td>\n",
       "    </tr>\n",
       "    <tr>\n",
       "      <th>2</th>\n",
       "      <td>9</td>\n",
       "      <td>Ghoul</td>\n",
       "    </tr>\n",
       "    <tr>\n",
       "      <th>3</th>\n",
       "      <td>10</td>\n",
       "      <td>Ghost</td>\n",
       "    </tr>\n",
       "    <tr>\n",
       "      <th>4</th>\n",
       "      <td>13</td>\n",
       "      <td>Ghost</td>\n",
       "    </tr>\n",
       "  </tbody>\n",
       "</table>\n",
       "</div>"
      ],
      "text/plain": [
       "   Id    type\n",
       "0   3   Ghoul\n",
       "1   6  Goblin\n",
       "2   9   Ghoul\n",
       "3  10   Ghost\n",
       "4  13   Ghost"
      ]
     },
     "execution_count": 121,
     "metadata": {},
     "output_type": "execute_result"
    }
   ],
   "source": [
    "submission.head()"
   ]
  },
  {
   "cell_type": "code",
   "execution_count": null,
   "metadata": {},
   "outputs": [],
   "source": []
  }
 ],
 "metadata": {
  "kernelspec": {
   "display_name": "Python 3",
   "language": "python",
   "name": "python3"
  },
  "language_info": {
   "codemirror_mode": {
    "name": "ipython",
    "version": 3
   },
   "file_extension": ".py",
   "mimetype": "text/x-python",
   "name": "python",
   "nbconvert_exporter": "python",
   "pygments_lexer": "ipython3",
   "version": "3.7.3"
  }
 },
 "nbformat": 4,
 "nbformat_minor": 2
}
